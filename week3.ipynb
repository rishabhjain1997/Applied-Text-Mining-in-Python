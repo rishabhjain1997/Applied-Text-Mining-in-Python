{
 "cells": [
  {
   "cell_type": "code",
   "execution_count": 1,
   "metadata": {},
   "outputs": [
    {
     "data": {
      "text/plain": [
       "0.5151515151515151"
      ]
     },
     "execution_count": 1,
     "metadata": {},
     "output_type": "execute_result"
    }
   ],
   "source": [
    "import networkx as nx\n",
    "G = nx.karate_club_graph()\n",
    "G = nx.convert_node_labels_to_integers(G, first_label = 1)\n",
    "degCent = nx.degree_centrality(G)\n",
    "degCent[34]"
   ]
  },
  {
   "cell_type": "code",
   "execution_count": 2,
   "metadata": {},
   "outputs": [
    {
     "data": {
      "text/plain": [
       "{1: 0.48484848484848486,\n",
       " 2: 0.2727272727272727,\n",
       " 3: 0.30303030303030304,\n",
       " 4: 0.18181818181818182,\n",
       " 5: 0.09090909090909091,\n",
       " 6: 0.12121212121212122,\n",
       " 7: 0.12121212121212122,\n",
       " 8: 0.12121212121212122,\n",
       " 9: 0.15151515151515152,\n",
       " 11: 0.09090909090909091,\n",
       " 12: 0.030303030303030304,\n",
       " 13: 0.06060606060606061,\n",
       " 14: 0.15151515151515152,\n",
       " 18: 0.06060606060606061,\n",
       " 20: 0.09090909090909091,\n",
       " 22: 0.06060606060606061,\n",
       " 32: 0.18181818181818182,\n",
       " 31: 0.12121212121212122,\n",
       " 10: 0.06060606060606061,\n",
       " 28: 0.12121212121212122,\n",
       " 29: 0.09090909090909091,\n",
       " 33: 0.36363636363636365,\n",
       " 17: 0.06060606060606061,\n",
       " 34: 0.5151515151515151,\n",
       " 15: 0.06060606060606061,\n",
       " 16: 0.06060606060606061,\n",
       " 19: 0.06060606060606061,\n",
       " 21: 0.06060606060606061,\n",
       " 23: 0.06060606060606061,\n",
       " 24: 0.15151515151515152,\n",
       " 26: 0.09090909090909091,\n",
       " 30: 0.12121212121212122,\n",
       " 25: 0.09090909090909091,\n",
       " 27: 0.06060606060606061}"
      ]
     },
     "execution_count": 2,
     "metadata": {},
     "output_type": "execute_result"
    }
   ],
   "source": [
    "degCent"
   ]
  },
  {
   "cell_type": "code",
   "execution_count": 3,
   "metadata": {},
   "outputs": [
    {
     "ename": "NetworkXError",
     "evalue": "in_degree_centrality() not defined for undirected graphs.",
     "output_type": "error",
     "traceback": [
      "\u001b[0;31m---------------------------------------------------------------------------\u001b[0m",
      "\u001b[0;31mNetworkXError\u001b[0m                             Traceback (most recent call last)",
      "\u001b[0;32m<ipython-input-3-cabecb49bfd9>\u001b[0m in \u001b[0;36m<module>\u001b[0;34m\u001b[0m\n\u001b[0;32m----> 1\u001b[0;31m \u001b[0mindegCent\u001b[0m \u001b[0;34m=\u001b[0m \u001b[0mnx\u001b[0m\u001b[0;34m.\u001b[0m\u001b[0min_degree_centrality\u001b[0m\u001b[0;34m(\u001b[0m\u001b[0mG\u001b[0m\u001b[0;34m)\u001b[0m\u001b[0;34m\u001b[0m\u001b[0;34m\u001b[0m\u001b[0m\n\u001b[0m",
      "\u001b[0;32m~/anaconda3/lib/python3.8/site-packages/networkx/algorithms/centrality/degree_alg.py\u001b[0m in \u001b[0;36min_degree_centrality\u001b[0;34m(G)\u001b[0m\n\u001b[1;32m     88\u001b[0m     \"\"\"\n\u001b[1;32m     89\u001b[0m     \u001b[0;32mif\u001b[0m \u001b[0;32mnot\u001b[0m \u001b[0mG\u001b[0m\u001b[0;34m.\u001b[0m\u001b[0mis_directed\u001b[0m\u001b[0;34m(\u001b[0m\u001b[0;34m)\u001b[0m\u001b[0;34m:\u001b[0m\u001b[0;34m\u001b[0m\u001b[0;34m\u001b[0m\u001b[0m\n\u001b[0;32m---> 90\u001b[0;31m         raise nx.NetworkXError(\\\n\u001b[0m\u001b[1;32m     91\u001b[0m             \"in_degree_centrality() not defined for undirected graphs.\")\n\u001b[1;32m     92\u001b[0m     \u001b[0mcentrality\u001b[0m\u001b[0;34m=\u001b[0m\u001b[0;34m{\u001b[0m\u001b[0;34m}\u001b[0m\u001b[0;34m\u001b[0m\u001b[0;34m\u001b[0m\u001b[0m\n",
      "\u001b[0;31mNetworkXError\u001b[0m: in_degree_centrality() not defined for undirected graphs."
     ]
    }
   ],
   "source": [
    "indegCent = nx.in_degree_centrality(G)"
   ]
  },
  {
   "cell_type": "code",
   "execution_count": 4,
   "metadata": {},
   "outputs": [
    {
     "ename": "NetworkXError",
     "evalue": "out_degree_centrality() not defined for undirected graphs.",
     "output_type": "error",
     "traceback": [
      "\u001b[0;31m---------------------------------------------------------------------------\u001b[0m",
      "\u001b[0;31mNetworkXError\u001b[0m                             Traceback (most recent call last)",
      "\u001b[0;32m<ipython-input-4-a8b8739734be>\u001b[0m in \u001b[0;36m<module>\u001b[0;34m\u001b[0m\n\u001b[0;32m----> 1\u001b[0;31m \u001b[0moutdegCent\u001b[0m \u001b[0;34m=\u001b[0m \u001b[0mnx\u001b[0m\u001b[0;34m.\u001b[0m\u001b[0mout_degree_centrality\u001b[0m\u001b[0;34m(\u001b[0m\u001b[0mG\u001b[0m\u001b[0;34m)\u001b[0m\u001b[0;34m\u001b[0m\u001b[0;34m\u001b[0m\u001b[0m\n\u001b[0m",
      "\u001b[0;32m~/anaconda3/lib/python3.8/site-packages/networkx/algorithms/centrality/degree_alg.py\u001b[0m in \u001b[0;36mout_degree_centrality\u001b[0;34m(G)\u001b[0m\n\u001b[1;32m    131\u001b[0m     \"\"\"\n\u001b[1;32m    132\u001b[0m     \u001b[0;32mif\u001b[0m \u001b[0;32mnot\u001b[0m \u001b[0mG\u001b[0m\u001b[0;34m.\u001b[0m\u001b[0mis_directed\u001b[0m\u001b[0;34m(\u001b[0m\u001b[0;34m)\u001b[0m\u001b[0;34m:\u001b[0m\u001b[0;34m\u001b[0m\u001b[0;34m\u001b[0m\u001b[0m\n\u001b[0;32m--> 133\u001b[0;31m         raise nx.NetworkXError(\\\n\u001b[0m\u001b[1;32m    134\u001b[0m             \"out_degree_centrality() not defined for undirected graphs.\")\n\u001b[1;32m    135\u001b[0m     \u001b[0mcentrality\u001b[0m\u001b[0;34m=\u001b[0m\u001b[0;34m{\u001b[0m\u001b[0;34m}\u001b[0m\u001b[0;34m\u001b[0m\u001b[0;34m\u001b[0m\u001b[0m\n",
      "\u001b[0;31mNetworkXError\u001b[0m: out_degree_centrality() not defined for undirected graphs."
     ]
    }
   ],
   "source": [
    "outdegCent = nx.out_degree_centrality(G)"
   ]
  },
  {
   "cell_type": "code",
   "execution_count": 5,
   "metadata": {},
   "outputs": [],
   "source": [
    "closeCent = nx.closeness_centrality(G)\n"
   ]
  },
  {
   "cell_type": "code",
   "execution_count": 6,
   "metadata": {},
   "outputs": [
    {
     "data": {
      "text/plain": [
       "{1: 0.5689655172413793,\n",
       " 2: 0.4852941176470588,\n",
       " 3: 0.559322033898305,\n",
       " 4: 0.4647887323943662,\n",
       " 5: 0.3793103448275862,\n",
       " 6: 0.38372093023255816,\n",
       " 7: 0.38372093023255816,\n",
       " 8: 0.44,\n",
       " 9: 0.515625,\n",
       " 11: 0.3793103448275862,\n",
       " 12: 0.36666666666666664,\n",
       " 13: 0.3707865168539326,\n",
       " 14: 0.515625,\n",
       " 18: 0.375,\n",
       " 20: 0.5,\n",
       " 22: 0.375,\n",
       " 32: 0.5409836065573771,\n",
       " 31: 0.4583333333333333,\n",
       " 10: 0.4342105263157895,\n",
       " 28: 0.4583333333333333,\n",
       " 29: 0.4520547945205479,\n",
       " 33: 0.515625,\n",
       " 17: 0.28448275862068967,\n",
       " 34: 0.55,\n",
       " 15: 0.3707865168539326,\n",
       " 16: 0.3707865168539326,\n",
       " 19: 0.3707865168539326,\n",
       " 21: 0.3707865168539326,\n",
       " 23: 0.3707865168539326,\n",
       " 24: 0.39285714285714285,\n",
       " 26: 0.375,\n",
       " 30: 0.38372093023255816,\n",
       " 25: 0.375,\n",
       " 27: 0.3626373626373626}"
      ]
     },
     "execution_count": 6,
     "metadata": {},
     "output_type": "execute_result"
    }
   ],
   "source": [
    "closeCent"
   ]
  },
  {
   "cell_type": "code",
   "execution_count": 7,
   "metadata": {},
   "outputs": [
    {
     "data": {
      "text/plain": [
       "0.5409836065573771"
      ]
     },
     "execution_count": 7,
     "metadata": {},
     "output_type": "execute_result"
    }
   ],
   "source": [
    "closeCent[32]"
   ]
  },
  {
   "cell_type": "code",
   "execution_count": 10,
   "metadata": {},
   "outputs": [
    {
     "data": {
      "text/plain": [
       "61"
      ]
     },
     "execution_count": 10,
     "metadata": {},
     "output_type": "execute_result"
    }
   ],
   "source": [
    "sum(nx.shortest_path_length(G,32).values())"
   ]
  },
  {
   "cell_type": "code",
   "execution_count": 14,
   "metadata": {},
   "outputs": [
    {
     "data": {
      "text/plain": [
       "0.5409836065573771"
      ]
     },
     "execution_count": 14,
     "metadata": {},
     "output_type": "execute_result"
    }
   ],
   "source": [
    "(len(G.nodes()) - 1)/sum(nx.shortest_path_length(G,32).values())"
   ]
  },
  {
   "cell_type": "code",
   "execution_count": 16,
   "metadata": {},
   "outputs": [
    {
     "data": {
      "text/plain": [
       "0.3707865168539326"
      ]
     },
     "execution_count": 16,
     "metadata": {},
     "output_type": "execute_result"
    }
   ],
   "source": [
    "closeCent = nx.closeness_centrality(G, normalized = False)\n",
    "closeCent[21]"
   ]
  },
  {
   "cell_type": "code",
   "execution_count": 17,
   "metadata": {},
   "outputs": [
    {
     "data": {
      "text/plain": [
       "0.3707865168539326"
      ]
     },
     "execution_count": 17,
     "metadata": {},
     "output_type": "execute_result"
    }
   ],
   "source": [
    "closeCent = nx.closeness_centrality(G, normalized = True)\n",
    "closeCent[21]"
   ]
  },
  {
   "cell_type": "code",
   "execution_count": 18,
   "metadata": {},
   "outputs": [
    {
     "data": {
      "text/plain": [
       "{1: 0.4376352813852815,\n",
       " 2: 0.05393668831168831,\n",
       " 3: 0.14365680615680615,\n",
       " 4: 0.011909271284271283,\n",
       " 5: 0.0006313131313131313,\n",
       " 6: 0.02998737373737374,\n",
       " 7: 0.029987373737373736,\n",
       " 8: 0.0,\n",
       " 9: 0.05592682780182782,\n",
       " 11: 0.0006313131313131313,\n",
       " 12: 0.0,\n",
       " 13: 0.0,\n",
       " 14: 0.045863395863395856,\n",
       " 18: 0.0,\n",
       " 20: 0.03247504810004811,\n",
       " 22: 0.0,\n",
       " 32: 0.13827561327561327,\n",
       " 31: 0.014411976911976905,\n",
       " 10: 0.0008477633477633478,\n",
       " 28: 0.022333453583453587,\n",
       " 29: 0.0017947330447330447,\n",
       " 33: 0.14524711399711404,\n",
       " 17: 0.0,\n",
       " 34: 0.30407497594997596,\n",
       " 15: 0.0,\n",
       " 16: 0.0,\n",
       " 19: 0.0,\n",
       " 21: 0.0,\n",
       " 23: 0.0,\n",
       " 24: 0.017613636363636363,\n",
       " 26: 0.0038404882154882162,\n",
       " 30: 0.0029220779220779218,\n",
       " 25: 0.0022095959595959595,\n",
       " 27: 0.0}"
      ]
     },
     "execution_count": 18,
     "metadata": {},
     "output_type": "execute_result"
    }
   ],
   "source": [
    "btwnCent = nx.betweenness_centrality(G, normalized = True, endpoints = False)\n",
    "btwnCent"
   ]
  },
  {
   "cell_type": "code",
   "execution_count": 19,
   "metadata": {},
   "outputs": [
    {
     "data": {
      "text/plain": [
       "[(1, 0.4376352813852815),\n",
       " (34, 0.30407497594997596),\n",
       " (33, 0.14524711399711404),\n",
       " (3, 0.14365680615680615),\n",
       " (32, 0.13827561327561327)]"
      ]
     },
     "execution_count": 19,
     "metadata": {},
     "output_type": "execute_result"
    }
   ],
   "source": [
    "import operator\n",
    "sorted(btwnCent.items(), key = operator.itemgetter(1), reverse = True)[0:5]"
   ]
  },
  {
   "cell_type": "code",
   "execution_count": 22,
   "metadata": {},
   "outputs": [
    {
     "data": {
      "text/plain": [
       "[(1, 0.44058231120731123),\n",
       " (34, 0.250855278980279),\n",
       " (3, 0.1711217833092833),\n",
       " (32, 0.1576297198172198),\n",
       " (33, 0.15430525493025493)]"
      ]
     },
     "execution_count": 22,
     "metadata": {},
     "output_type": "execute_result"
    }
   ],
   "source": [
    "btwnCent_approx = nx.betweenness_centrality(G, normalized = True, endpoints = False, k = 10)\n",
    "sorted(btwnCent_approx.items(), key = operator.itemgetter(1), reverse = True)[0:5]"
   ]
  },
  {
   "cell_type": "code",
   "execution_count": 24,
   "metadata": {},
   "outputs": [
    {
     "data": {
      "text/plain": [
       "[(1, 0.03284406565656566),\n",
       " (34, 0.02031475468975469),\n",
       " (9, 0.01085182178932179),\n",
       " (32, 0.01085182178932179),\n",
       " (33, 0.009988275613275614)]"
      ]
     },
     "execution_count": 24,
     "metadata": {},
     "output_type": "execute_result"
    }
   ],
   "source": [
    "btwnCent_subset = nx.betweenness_centrality_subset(G, [34,33,21,30,16,27],[1,4,13,11,6,12,17,7], normalized = True)\n",
    "sorted(btwnCent_subset.items(), key = operator.itemgetter(1), reverse = True)[0:5]"
   ]
  },
  {
   "cell_type": "code",
   "execution_count": 26,
   "metadata": {},
   "outputs": [
    {
     "data": {
      "text/plain": [
       "[((1, 32), 0.12725999490705373),\n",
       " ((1, 7), 0.07813428401663695),\n",
       " ((1, 6), 0.07813428401663694),\n",
       " ((1, 3), 0.07778768072885717),\n",
       " ((1, 9), 0.07423959482783016)]"
      ]
     },
     "execution_count": 26,
     "metadata": {},
     "output_type": "execute_result"
    }
   ],
   "source": [
    "btwnCent_edge = nx.edge_betweenness_centrality(G, normalized = True)\n",
    "sorted(btwnCent_edge.items(), key = operator.itemgetter(1), reverse = True)[0:5]"
   ]
  },
  {
   "cell_type": "code",
   "execution_count": 27,
   "metadata": {},
   "outputs": [
    {
     "data": {
      "text/plain": [
       "[((14, 34), 0.007737034207622442),\n",
       " ((1, 9), 0.007200152788388081),\n",
       " ((1, 32), 0.007200152788388081),\n",
       " ((3, 33), 0.005984211866564807),\n",
       " ((1, 6), 0.0053475935828877)]"
      ]
     },
     "execution_count": 27,
     "metadata": {},
     "output_type": "execute_result"
    }
   ],
   "source": [
    "btwnCent = nx.edge_betweenness_centrality_subset(G,[34,33,21,30,16,27],[1,4,13,11,6,12], normalized = True)\n",
    "sorted(btwnCent.items(), key = operator.itemgetter(1), reverse = True)[0:5]"
   ]
  },
  {
   "cell_type": "code",
   "execution_count": 28,
   "metadata": {},
   "outputs": [
    {
     "data": {
      "text/plain": [
       "[(34, 0.09833298540908078),\n",
       " (1, 0.09456117898156402),\n",
       " (33, 0.07006405452640968),\n",
       " (3, 0.05510962827358583),\n",
       " (2, 0.05152334607950815)]"
      ]
     },
     "execution_count": 28,
     "metadata": {},
     "output_type": "execute_result"
    }
   ],
   "source": [
    "pageRank = nx.pagerank(G, alpha = 0.8)\n",
    "sorted(pageRank.items(), key = operator.itemgetter(1), reverse = True)[0:5]"
   ]
  },
  {
   "cell_type": "code",
   "execution_count": 29,
   "metadata": {},
   "outputs": [
    {
     "name": "stdout",
     "output_type": "stream",
     "text": [
      "Help on function hits in module networkx.algorithms.link_analysis.hits_alg:\n",
      "\n",
      "hits(G, max_iter=100, tol=1e-08, nstart=None, normalized=True)\n",
      "    Return HITS hubs and authorities values for nodes.\n",
      "    \n",
      "    The HITS algorithm computes two numbers for a node.\n",
      "    Authorities estimates the node value based on the incoming links.\n",
      "    Hubs estimates the node value based on outgoing links.\n",
      "    \n",
      "    Parameters\n",
      "    ----------\n",
      "    G : graph\n",
      "      A NetworkX graph\n",
      "    \n",
      "    max_iter : interger, optional\n",
      "      Maximum number of iterations in power method.\n",
      "    \n",
      "    tol : float, optional\n",
      "      Error tolerance used to check convergence in power method iteration.\n",
      "    \n",
      "    nstart : dictionary, optional\n",
      "      Starting value of each node for power method iteration.\n",
      "    \n",
      "    normalized : bool (default=True)\n",
      "       Normalize results by the sum of all of the values.\n",
      "    \n",
      "    Returns\n",
      "    -------\n",
      "    (hubs,authorities) : two-tuple of dictionaries\n",
      "       Two dictionaries keyed by node containing the hub and authority\n",
      "       values.\n",
      "    \n",
      "    Examples\n",
      "    --------\n",
      "    >>> G=nx.path_graph(4)\n",
      "    >>> h,a=nx.hits(G)\n",
      "    \n",
      "    Notes\n",
      "    -----\n",
      "    The eigenvector calculation is done by the power iteration method\n",
      "    and has no guarantee of convergence.  The iteration will stop\n",
      "    after max_iter iterations or an error tolerance of\n",
      "    number_of_nodes(G)*tol has been reached.\n",
      "    \n",
      "    The HITS algorithm was designed for directed graphs but this\n",
      "    algorithm does not check if the input graph is directed and will\n",
      "    execute on undirected graphs.\n",
      "    \n",
      "    References\n",
      "    ----------\n",
      "    .. [1] A. Langville and C. Meyer,\n",
      "       \"A survey of eigenvector methods of web information retrieval.\"\n",
      "       http://citeseer.ist.psu.edu/713792.html\n",
      "    .. [2] Jon Kleinberg,\n",
      "       Authoritative sources in a hyperlinked environment\n",
      "       Journal of the ACM 46 (5): 604-32, 1999.\n",
      "       doi:10.1145/324133.324140.\n",
      "       http://www.cs.cornell.edu/home/kleinber/auth.pdf.\n",
      "\n"
     ]
    }
   ],
   "source": [
    "help(nx.hits)"
   ]
  },
  {
   "cell_type": "code",
   "execution_count": 30,
   "metadata": {},
   "outputs": [
    {
     "data": {
      "text/plain": [
       "({1: 0.07141272875773574,\n",
       "  2: 0.05342723120517262,\n",
       "  3: 0.06371906453963269,\n",
       "  4: 0.04242273710428977,\n",
       "  5: 0.015260959698152663,\n",
       "  6: 0.01596691349441855,\n",
       "  7: 0.01596691349441855,\n",
       "  8: 0.03434316720679744,\n",
       "  9: 0.045681925130806315,\n",
       "  11: 0.015260959698152663,\n",
       "  12: 0.010617891508520511,\n",
       "  13: 0.016925450785435992,\n",
       "  14: 0.045494864066005475,\n",
       "  18: 0.018561637031907365,\n",
       "  20: 0.0297133338911154,\n",
       "  22: 0.018561637031907365,\n",
       "  32: 0.03837574188047835,\n",
       "  31: 0.03510623798827735,\n",
       "  10: 0.02062566775718263,\n",
       "  28: 0.026813494127083635,\n",
       "  29: 0.02633150578337531,\n",
       "  33: 0.06200184647463987,\n",
       "  17: 0.004748031841562519,\n",
       "  34: 0.0750029421463428,\n",
       "  15: 0.020370345842716082,\n",
       "  16: 0.020370345842716082,\n",
       "  19: 0.020370345842716082,\n",
       "  21: 0.020370345842716082,\n",
       "  23: 0.020370345842716082,\n",
       "  24: 0.030156497528902457,\n",
       "  26: 0.011893664396093682,\n",
       "  30: 0.02711153964642488,\n",
       "  25: 0.01146095223013987,\n",
       "  27: 0.015182734341447214},\n",
       " {1: 0.07141272880870857,\n",
       "  2: 0.053427231228703985,\n",
       "  3: 0.06371906455587137,\n",
       "  4: 0.042422737106115244,\n",
       "  5: 0.015260959692251745,\n",
       "  6: 0.01596691348769785,\n",
       "  7: 0.01596691348769785,\n",
       "  8: 0.034343167196785686,\n",
       "  9: 0.04568192511376612,\n",
       "  11: 0.015260959692251745,\n",
       "  12: 0.010617891499780773,\n",
       "  13: 0.016925450777611123,\n",
       "  14: 0.04549486404492594,\n",
       "  18: 0.018561637020091355,\n",
       "  20: 0.029713333868231613,\n",
       "  22: 0.018561637020091355,\n",
       "  32: 0.038375741856463086,\n",
       "  31: 0.0351062379780833,\n",
       "  10: 0.02062566774700424,\n",
       "  28: 0.02681349412210058,\n",
       "  29: 0.026331505783102074,\n",
       "  33: 0.062001846535505625,\n",
       "  17: 0.004748031844529443,\n",
       "  34: 0.07500294224371072,\n",
       "  15: 0.020370345827057042,\n",
       "  16: 0.020370345827057042,\n",
       "  19: 0.020370345827057042,\n",
       "  21: 0.020370345827057042,\n",
       "  23: 0.020370345827057042,\n",
       "  24: 0.03015649752213886,\n",
       "  26: 0.011893664411194169,\n",
       "  30: 0.027111539640980654,\n",
       "  25: 0.01146095224314779,\n",
       "  27: 0.015182734336172116})"
      ]
     },
     "execution_count": 30,
     "metadata": {},
     "output_type": "execute_result"
    }
   ],
   "source": [
    "nx.hits(G)"
   ]
  },
  {
   "cell_type": "code",
   "execution_count": null,
   "metadata": {},
   "outputs": [],
   "source": []
  }
 ],
 "metadata": {
  "kernelspec": {
   "display_name": "Python 3",
   "language": "python",
   "name": "python3"
  },
  "language_info": {
   "codemirror_mode": {
    "name": "ipython",
    "version": 3
   },
   "file_extension": ".py",
   "mimetype": "text/x-python",
   "name": "python",
   "nbconvert_exporter": "python",
   "pygments_lexer": "ipython3",
   "version": "3.8.5"
  }
 },
 "nbformat": 4,
 "nbformat_minor": 4
}
